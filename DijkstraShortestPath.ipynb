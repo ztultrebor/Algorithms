{
 "cells": [
  {
   "cell_type": "code",
   "execution_count": 34,
   "metadata": {
    "collapsed": false
   },
   "outputs": [
    {
     "data": {
      "text/plain": [
       "push (generic function with 1 method)"
      ]
     },
     "execution_count": 34,
     "metadata": {},
     "output_type": "execute_result"
    }
   ],
   "source": [
    "#Heap stuff \n",
    "workspace()\n",
    "\n",
    "type Node{T}\n",
    "    # a node data structure. It contains two arguments: a key and a value. \"key\" \n",
    "    # is the used to rank the node, possibly by a heap. \"val\" is the value of the \n",
    "    # node from the perspective of its graph.\n",
    "    key::T\n",
    "    val::T\n",
    "end\n",
    "\n",
    "type Heap{T}\n",
    "    # a heap data structure. It contains a list of node objects. Note that elements \n",
    "    # are never deleted from the node list; rather, a pointer called \"last\" is used \n",
    "    # to indicate that last good value in the arrays. The heaps can be either min or \n",
    "    # max heaps, as determined by the keyword argument \"kind\"\n",
    "    nodelist::Array{Node{T},1}\n",
    "    last::T\n",
    "    kind::ASCIIString\n",
    "end\n",
    "Heap(T, kind) = Heap{T}([],0,kind)\n",
    " \n",
    "function sink(heap, i)\n",
    "    # arguments:\n",
    "    #     heap: a heap data structure\n",
    "    #     i: an index describing the location in the heap (in the base array \n",
    "    #     itself) of the node to be sunk can be found \n",
    "    # what it does:\n",
    "    #     after the base node is popped from the heap, the node in the last \n",
    "    #     position is brough into the base node, at least temporarily. The proper \n",
    "    #     position for this node can be found by \"sinking\" it down through the heap.\n",
    "    # returns:\n",
    "    #    return statements are for facilitation of recursion only\n",
    "    if heap.kind == \"min\"\n",
    "        ∘ = <=\n",
    "    elseif heap.kind == \"max\"\n",
    "        ∘ = >=\n",
    "    end\n",
    "    if heap.last == 0\n",
    "        return\n",
    "    elseif heap.last > 0\n",
    "        left = heap.nodelist[2*i]\n",
    "        right = heap.nodelist[2*i+1]\n",
    "        if left.key ∘ right.key && left.key ∘ heap.nodelist[i].key\n",
    "            switch = 2*i\n",
    "        elseif right.key ∘ left.key && right.key ∘ heap.nodelist[i].key\n",
    "            switch = 2*i+1\n",
    "        else\n",
    "            return\n",
    "        end\n",
    "        heap.nodelist[i], heap.nodelist[switch] = heap.nodelist[switch], heap.nodelist[i]\n",
    "        return sink(heap, switch)\n",
    "    end\n",
    "end\n",
    "\n",
    "function float(heap, i)\n",
    "    # arguments:\n",
    "    #     heap: a heap data structure\n",
    "    #     i: an index describing the location in the heap (in the base array \n",
    "    #     itself) of the node to be floated can be found \n",
    "    # what it does:\n",
    "    #     a new node is pushed onto the heap in the last position. This may not be \n",
    "    #     its rightful location in the heap. The proper position for this node can \n",
    "    #     be found by \"floating\" it up through the heap.\n",
    "    # returns:\n",
    "    #    return statements are for facilitation of recursion only\n",
    "    if heap.kind == \"min\"\n",
    "        ∘ = <\n",
    "    elseif heap.kind == \"max\"\n",
    "        ∘ = >\n",
    "    end\n",
    "    if i == 1\n",
    "        return\n",
    "    else\n",
    "        if heap.nodelist[i].key ∘ heap.nodelist[i÷2].key\n",
    "            heap.nodelist[i], heap.nodelist[i÷2] = heap.nodelist[i÷2], heap.nodelist[i]\n",
    "            return float(heap, i÷2)\n",
    "        end\n",
    "    end\n",
    "end\n",
    "\n",
    "function extremum(heap)\n",
    "     if heap.kind == \"min\"\n",
    "        if typeof(heap) == Heap{UInt32}\n",
    "            extreme = Node{UInt32}(2^32-1, 0)\n",
    "        elseif typeof(heap) == Heap{Int64}\n",
    "            extreme = Node{Int64}(2^32-1, 0)\n",
    "        end\n",
    "     elseif heap.kind == \"max\"\n",
    "        if typeof(heap) == Heap{UInt32}\n",
    "            extreme = Node{UInt32}(0, 0)\n",
    "        elseif typeof(heap) == Heap{Int64}\n",
    "            extreme = Node{Int64}(-2^32+1, 0)\n",
    "        end\n",
    "        return extreme\n",
    "    end\n",
    "end\n",
    "        \n",
    "function pop(heap)\n",
    "    # arguments:\n",
    "    #     heap: a heap data structure\n",
    "    # what it does:\n",
    "    #     removes the base node from the heap. Note that elements are never \n",
    "    #     deleted from the heap's lists, rather the last pointer is decremented\n",
    "    # returns:\n",
    "    #    the contents of the base node: its key and value\n",
    "    outer = extremum(heap)\n",
    "    if heap.last > 0\n",
    "        returnable = heap.nodelist[1]\n",
    "        heap.nodelist[1], heap.nodelist[heap.last] = heap.nodelist[heap.last], outer\n",
    "        heap.last -= 1\n",
    "        sink(heap, 1)\n",
    "        return returnable\n",
    "    else\n",
    "        throw(error(\"Ain't no thing in the heap\"))\n",
    "    end\n",
    "end\n",
    "\n",
    "function push(heap, nuno)\n",
    "    # arguments:\n",
    "    #     heap: a heap data structure\n",
    "    #     key: the quantity of the new node around which the heap is organized\n",
    "    #     value: other quantity associated with the node but unimportant to the heap\n",
    "    # what it does:\n",
    "    #     adds a new node to the heap. Note that if the heap's lists are too short to \n",
    "    #     contain the new nodes children, dummy elements are added to the lists. The \n",
    "    #     keys of these dummies are the maximum allowed by the data type if a min heap, \n",
    "    #     zero if a max heap. This is done to facilitate sinking after pop.\n",
    "    # returns:\n",
    "    #    no returns\n",
    "    outer = extremum(heap)\n",
    "    if size(heap.nodelist)[1] == 0\n",
    "        push!(heap.nodelist, nuno)\n",
    "        heap.last = 1\n",
    "    else\n",
    "        heap.last += 1\n",
    "        heap.nodelist[heap.last] = nuno\n",
    "    end\n",
    "    if 2*heap.last+1 > size(heap.nodelist)[1]\n",
    "        push!(heap.nodelist,outer, outer)\n",
    "    end\n",
    "    float(heap, heap.last)\n",
    "end"
   ]
  },
  {
   "cell_type": "code",
   "execution_count": 35,
   "metadata": {
    "collapsed": false
   },
   "outputs": [
    {
     "data": {
      "text/plain": [
       "reed (generic function with 1 method)"
      ]
     },
     "execution_count": 35,
     "metadata": {},
     "output_type": "execute_result"
    }
   ],
   "source": [
    "function reed(filename)\n",
    "    graph = Dict{Int64,Dict{Int64,Int64}}()\n",
    "    open(filename) do f\n",
    "        for entry in eachline(f)\n",
    "            adjacency = [x for x in split(entry)]\n",
    "            from = parse(Int64, adjacency[1])\n",
    "            graph[from] = [z[1] => z[2] \n",
    "                           for z in [map(y ->parse(Int64,y), split(x, ',')) \n",
    "                           for x in adjacency[2:end]]]\n",
    "        end\n",
    "    end\n",
    "    return graph\n",
    "end"
   ]
  },
  {
   "cell_type": "code",
   "execution_count": 40,
   "metadata": {
    "collapsed": false
   },
   "outputs": [
    {
     "name": "stdout",
     "output_type": "stream",
     "text": [
      "ready\n"
     ]
    }
   ],
   "source": [
    "graph = reed(\"dijkstraData.txt\")\n",
    "println(\"ready\")"
   ]
  },
  {
   "cell_type": "code",
   "execution_count": 42,
   "metadata": {
    "collapsed": false
   },
   "outputs": [
    {
     "data": {
      "text/plain": [
       "Dijkstra (generic function with 1 method)"
      ]
     },
     "execution_count": 42,
     "metadata": {},
     "output_type": "execute_result"
    }
   ],
   "source": [
    "function explore(graph, heap, shortestpaths, explored)\n",
    "    # arguments:\n",
    "    #     heap: a heap data structure\n",
    "    #     explored: a list of booleans corresponding to the visitation status of \n",
    "    #     the node corresponding to the index of the array\n",
    "    # what it does:\n",
    "    #     adds a new nodes to the frontier--all nodes which are adjacent to the \n",
    "    #     node at the top of the heap and that have not been previously explored.\n",
    "    #     Nodes are not considered explored until they are popped off the heap. \n",
    "    #     Pops the top off the heap before it returns.\n",
    "    # returns:\n",
    "    #    the heap argument with new nodes to be explored and the base node popped off\n",
    "    #    the updated list of explored nodes\n",
    "    chekov = true\n",
    "    current = Node(0,0)\n",
    "    while chekov\n",
    "        current = pop(heap)\n",
    "        chekov = explored[current.val]\n",
    "    end\n",
    "    push!(shortestpaths, current)\n",
    "    pathlength = current.key\n",
    "    explored[current.val] = true\n",
    "    for k in keys(graph[current.val])\n",
    "        if !explored[k]\n",
    "            push(heap, Node(pathlength + graph[current.val][k], k))\n",
    "        end\n",
    "    end\n",
    "    return heap, shortestpaths, explored\n",
    "end\n",
    "\n",
    "function Dijkstra(graph)\n",
    "    shortestpaths = []\n",
    "    explored = [false for i = 1:maximum(keys(graph))]\n",
    "    heap = Heap(Int64,\"min\")\n",
    "    push(heap, Node{Int64}(0, 1))\n",
    "    while !all(explored)\n",
    "        heap, shortestpaths, explored = explore(graph, heap, shortestpaths, explored)\n",
    "    end\n",
    "    return sort(shortestpaths, by=x->x.val)\n",
    "end"
   ]
  },
  {
   "cell_type": "code",
   "execution_count": 43,
   "metadata": {
    "collapsed": false
   },
   "outputs": [
    {
     "name": "stdout",
     "output_type": "stream",
     "text": [
      "2599\n",
      "2610\n",
      "2947\n",
      "2052\n",
      "2367\n",
      "2399\n",
      "2029\n",
      "2442\n",
      "2505\n",
      "3068\n"
     ]
    }
   ],
   "source": [
    "SPs = Dijkstra(graph)\n",
    "for i in [7,37,59,82,99,115,133,165,188,197]\n",
    "    println(SPs[i].key)\n",
    "end"
   ]
  },
  {
   "cell_type": "markdown",
   "metadata": {},
   "source": [
    "$$ V = \\frac 1 {2 n^2} \\sum_i \\sum_j (x_i - x_j)^2 $$"
   ]
  },
  {
   "cell_type": "code",
   "execution_count": 242,
   "metadata": {
    "collapsed": false
   },
   "outputs": [
    {
     "data": {
      "text/plain": [
       "8.25"
      ]
     },
     "execution_count": 242,
     "metadata": {},
     "output_type": "execute_result"
    }
   ],
   "source": [
    "V1(X) = sum((X' .- X).^2)/(2*size(X)[1]^2)\n",
    "\n",
    "V1(P)"
   ]
  },
  {
   "cell_type": "markdown",
   "metadata": {},
   "source": [
    "$$ V = \\frac 1 {2 n^2} \\sum_i \\sum_j (x_i^2 - 2 x_i x_j + x_j^2) $$\n",
    "\n",
    "$$ V = \\frac 1 {2 n^2} \\sum_i \\sum_j (2 x_i^2 - 2 x_i x_j) $$\n",
    "\n",
    "$$ V = \\frac 1 {n^2} \\sum_i \\sum_j x_i^2 - \\frac 1 {n^2} \\sum_i \\sum_j x_i x_j $$\n",
    "\n",
    "$$ V = \\frac 1 {n^2} \\sum_i n x_i^2 - \\frac 1 {n^2} \\sum_i \\sum_j x_i x_j $$\n",
    "\n",
    "$$ V = \\frac 1 {n} \\sum_i x_i^2 - \\frac 1 {n^2} \\sum_i \\sum_j x_i x_j $$"
   ]
  },
  {
   "cell_type": "code",
   "execution_count": 245,
   "metadata": {
    "collapsed": false
   },
   "outputs": [
    {
     "data": {
      "text/plain": [
       "8.25"
      ]
     },
     "execution_count": 245,
     "metadata": {},
     "output_type": "execute_result"
    }
   ],
   "source": [
    "V2(X) = (size(X)[1]*sum((X.^2)) - sum(X'.*X))/(size(X)[1]^2)\n",
    "\n",
    "V2(P)"
   ]
  },
  {
   "cell_type": "markdown",
   "metadata": {},
   "source": [
    "$$ V = \\frac 1 {n} \\sum_i x_i^2 - \\frac 1 {n^2} \\sum_i  x_i \\sum_j x_j $$\n",
    "\n",
    "$$ V = \\frac 1 {n} \\sum_i x_i^2 - \\frac 1 {n^2} n \\bar x n \\bar x $$\n",
    "\n",
    "$$ V = \\overline {x^2}  -  {\\overline x}^2 $$\n",
    "\n",
    "$$ V[x] = E [ {x^2}]  -  E[ x]^2 $$"
   ]
  },
  {
   "cell_type": "code",
   "execution_count": 247,
   "metadata": {
    "collapsed": false
   },
   "outputs": [
    {
     "data": {
      "text/plain": [
       "8.25"
      ]
     },
     "execution_count": 247,
     "metadata": {},
     "output_type": "execute_result"
    }
   ],
   "source": [
    "V3(X) = mean(X.^2) - mean(X)^2\n",
    "\n",
    "V3(P)"
   ]
  },
  {
   "cell_type": "markdown",
   "metadata": {},
   "source": [
    "$$ V = \\frac 1 {2 n^2} \\sum_i \\sum_j (x_i - x_j)^2 $$\n",
    "\n",
    "$$ V = \\frac 1 {2 n^2} \\sum_i \\sum_j (x_i^2 - 2 x_i x_j +x_j^2) $$\n",
    "\n",
    "$$ V = \\frac 1 {2 n^2} \\sum_i (\\sum_j  x_i^2 - 2 \\sum_j  x_i x_j + \\sum_j x_j^2) $$\n",
    "\n",
    "$$ V = \\frac 1 {2 n^2} \\sum_i (n  x_i^2 - 2 n \\overline x  x_i + n \\overline{x^2}) $$\n",
    "\n",
    "But we already proved that $\\displaystyle V = \\overline{x^2} -{\\overline x}^2$. Therefore\n",
    "\n",
    "$$ V = \\frac 1 {2 n^2} \\sum_i (n  x_i^2 - 2 n \\overline x  x_i + n V + n {\\overline x}^2) $$\n",
    "\n",
    "$$ V = \\frac 1 {2 n^2} \\left( n  \\sum_i x_i^2 - 2 n \\sum_i \\overline x  x_i + n \\sum_i V + n \\sum_i {\\overline x}^2 \\right) $$\n",
    "\n",
    "$$ V = \\frac 1 {2 n^2} \\left( n  \\sum_i x_i^2 - 2 n \\sum_i \\overline x  x_i + n^2  V + n \\sum_i {\\overline x}^2 \\right)$$\n",
    "\n",
    "$$ V = \\frac V 2 + \\frac 1 {2 n} \\sum_i \\left( x_i^2 - 2 \\overline x  x_i + {\\overline x}^2 \\right)$$\n",
    "\n",
    "$$ \\frac V 2 = \\frac 1 {2 n} \\sum_i \\left( x_i -  {\\overline x} \\right)^2$$\n",
    "\n",
    "$$ V = \\frac 1 {n} \\sum_i \\left( x_i -  {\\overline x} \\right)^2$$"
   ]
  },
  {
   "cell_type": "markdown",
   "metadata": {},
   "source": [
    "$$ V = \\frac 1 {n} \\sum_i \\left( x_i -  {\\overline x} \\right)^2$$\n",
    "\n",
    "$$ V = \\frac 1 {n} \\sum_i \\left( x_i -  \\frac 1 n \\sum_j x_j \\right)^2$$\n",
    "\n",
    "$$ V = \\frac 1 {n} \\sum_i \\left( \\frac 1 n \\sum_j x_i -  \\frac 1 n \\sum_j x_j \\right)^2$$\n",
    "\n",
    "$$ V = \\frac 1 {n^3} \\sum_i \\left( \\sum_j \\left(x_i - x_j \\right)\\right)^2$$"
   ]
  },
  {
   "cell_type": "code",
   "execution_count": 260,
   "metadata": {
    "collapsed": false
   },
   "outputs": [
    {
     "data": {
      "text/plain": [
       "8.25"
      ]
     },
     "execution_count": 260,
     "metadata": {},
     "output_type": "execute_result"
    }
   ],
   "source": [
    "sum([sum([pi - pj for pj in P])^2 for pi in P])/size(P)[1]^3"
   ]
  },
  {
   "cell_type": "markdown",
   "metadata": {},
   "source": [
    "Somehow $ \\displaystyle V = \\frac 1 {2 n^2} \\sum_i \\sum_j \\left(x_i - x_j \\right)^2 = \\frac 1 {n^3} \\sum_i \\left( \\sum_j \\left(x_i - x_j \\right)\\right)^2$ but I cannot prove it"
   ]
  },
  {
   "cell_type": "code",
   "execution_count": null,
   "metadata": {
    "collapsed": true
   },
   "outputs": [],
   "source": []
  }
 ],
 "metadata": {
  "kernelspec": {
   "display_name": "Julia 0.4.5",
   "language": "julia",
   "name": "julia-0.4"
  },
  "language_info": {
   "file_extension": ".jl",
   "mimetype": "application/julia",
   "name": "julia",
   "version": "0.4.5"
  }
 },
 "nbformat": 4,
 "nbformat_minor": 0
}
