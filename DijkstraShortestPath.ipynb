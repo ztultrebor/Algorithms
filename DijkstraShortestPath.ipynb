{
 "cells": [
  {
   "cell_type": "code",
   "execution_count": 1,
   "metadata": {
    "collapsed": false
   },
   "outputs": [
    {
     "data": {
      "text/plain": [
       "rekey (generic function with 1 method)"
      ]
     },
     "execution_count": 1,
     "metadata": {},
     "output_type": "execute_result"
    }
   ],
   "source": [
    "#Heap stuff \n",
    "type Node\n",
    "    # a node data structure. It contains two arguments: a key and a value. \"key\" \n",
    "    # is the used to rank the node, possibly by a heap. \"val\" is the value of the \n",
    "    # node from the perspective of its graph.\n",
    "    key::Real\n",
    "    val::Real\n",
    "end\n",
    "\n",
    "type Heap\n",
    "    # a heap data structure. It contains a list of node objects. Note that elements \n",
    "    # are never deleted from the node list; rather, a pointer called \"last\" is used \n",
    "    # to indicate that last good value in the arrays. The heaps can be either min or \n",
    "    # max heaps, as determined by the keyword argument \"kind\". An address book is \n",
    "    # maintained that tells where a node of particluar value (not key) is located \n",
    "    # within the heap.\n",
    "    list::Array{Node,1}\n",
    "    last::Int\n",
    "    kind::String\n",
    "    addressbook::Dict{Real,Real}\n",
    "end\n",
    "Heap(kind) = Heap([], 0, kind, Dict())\n",
    "Heap(node::Node, kind) = Heap([node], 1, kind, Dict(node.val => node.key))\n",
    "Heap(nodelist::Array{Node,1}, kind) = heapify(Heap(nodelist, size(nodelist)[1], kind, Dict()))\n",
    "\n",
    "function heapify(h)\n",
    "    # arguments:\n",
    "    #     h: a Heap data structure, but without the true min or max heap property\n",
    "    # what it does:\n",
    "    #     bestows the true min or max heap property upon h. It does this by sinking \n",
    "    #     each parent node in turn from bottom to top. Once all parent nodes have \n",
    "    #     been sunk to their proper positions in the heap, true heap property is \n",
    "    #     established.\n",
    "    # returns:\n",
    "    #    a proper min or max heap\n",
    "    for n = h.last>>1:-1:1\n",
    "        sink(h, n)\n",
    "    end\n",
    "    for i = 1:h.last\n",
    "        h.addressbook[h.list[i].val] = i\n",
    "    end\n",
    "    return h\n",
    "end\n",
    "    \n",
    "function sink(heap, i)\n",
    "    # arguments:\n",
    "    #     heap: a heap data structure\n",
    "    #     i: an index describing the location in the heap (in the base array \n",
    "    #     itself) at which the node to be sunk can be found \n",
    "    # what it does:\n",
    "    #     after the base node is popped from the heap, the node in the last \n",
    "    #     position is brought into the base node, at least temporarily. The proper \n",
    "    #     position for this node can be found by \"sinking\" it down through the heap.\n",
    "    #     The address book is updates every time a node is sunk\n",
    "    # returns:\n",
    "    #    return statements are for facilitation of recursion only\n",
    "    if heap.last != 0\n",
    "        if heap.kind == \"min\"\n",
    "            ∘ = <=\n",
    "        elseif heap.kind == \"max\"\n",
    "            ∘ = >=\n",
    "        end\n",
    "        l = i<<1\n",
    "        r = i<<1+1\n",
    "        if (r <= heap.last && \n",
    "                heap.list[r].key ∘ heap.list[l].key && \n",
    "                heap.list[r].key ∘ heap.list[i].key)\n",
    "            heap.list[i], heap.list[r] = heap.list[r], heap.list[i]\n",
    "            heap.addressbook[heap.list[i].val] = i\n",
    "            heap.addressbook[heap.list[r].val] = r\n",
    "            return sink(heap, r)\n",
    "        elseif l <= heap.last && heap.list[l].key ∘ heap.list[i].key\n",
    "            heap.list[i], heap.list[l] = heap.list[l], heap.list[i]\n",
    "            heap.addressbook[heap.list[i].val] = i\n",
    "            heap.addressbook[heap.list[l].val] = l\n",
    "            return sink(heap, l)\n",
    "        else\n",
    "            return\n",
    "        end\n",
    "    end\n",
    "end\n",
    "\n",
    "function float(heap, i)\n",
    "    # arguments:\n",
    "    #     heap: a heap data structure\n",
    "    #     i: an index describing the location in the heap (in the base array \n",
    "    #     itself) of the node to be floated can be found \n",
    "    # what it does:\n",
    "    #     When a new node is pushed onto the heap in the last position, or when the \n",
    "    #     key of a node is decreased/increased (min/max), we need to check if this \n",
    "    #     new node must be moved upward to the top of the heap. The proper position \n",
    "    #     for this node can be found by \"floating\" it up through the heap. The\n",
    "    #     address book is updated every time a node is floated\n",
    "    # returns:\n",
    "    #    return statements are for facilitation of recursion only\n",
    "    if i == 1\n",
    "        return\n",
    "    else\n",
    "        if heap.kind == \"min\"\n",
    "            ∘ = <\n",
    "        elseif heap.kind == \"max\"\n",
    "            ∘ = >\n",
    "        end\n",
    "        if heap.list[i].key ∘ heap.list[i>>1].key\n",
    "            heap.list[i], heap.list[i>>1] = heap.list[i>>1], heap.list[i]\n",
    "            heap.addressbook[heap.list[i].val] = i\n",
    "            heap.addressbook[heap.list[i>>1].val] = i>>1\n",
    "            return float(heap, i>>1)\n",
    "        end\n",
    "    end\n",
    "end\n",
    "        \n",
    "function pop(heap)\n",
    "    # arguments:\n",
    "    #     heap: a heap data structure\n",
    "    # what it does:\n",
    "    #     removes the base node from the heap. Note that elements are never \n",
    "    #     deleted from the heap's lists, rather the last pointer is decremented.\n",
    "    #     The address book is updated every time a node is popped.\n",
    "    # returns:\n",
    "    #    the contents of the base node: its key and value. If the heap is empty \n",
    "    #    it returns an infinity-stuffed node\n",
    "    returnable = heap.list[1]\n",
    "    heap.list[1], heap.list[heap.last] = heap.list[heap.last], heap.list[1]\n",
    "    heap.addressbook[heap.list[1].val] = 1\n",
    "    heap.addressbook[heap.list[heap.last].val] = heap.last\n",
    "    heap.last -= 1\n",
    "    sink(heap, 1)\n",
    "    return returnable\n",
    "end\n",
    "\n",
    "function push(heap, nuno)\n",
    "    # arguments:\n",
    "    #     heap: a heap data structure\n",
    "    #     nuno: the node being pushed onto the heap\n",
    "    # what it does:\n",
    "    #     adds a new node to the heap. Note that if the heap's lists are too short to \n",
    "    #     contain the new nodes children, dummy elements are added to the lists. The \n",
    "    #     keys of these dummies are the maximum allowed by the data type if a min heap, \n",
    "    #     zero if a max heap. This is done to facilitate sinking after pop.\n",
    "    # returns:\n",
    "    #    no returns\n",
    "    heap.last += 1\n",
    "    if size(heap.list)[1] < heap.last\n",
    "        push!(heap.list, nuno)\n",
    "    else\n",
    "        heap.list[heap.last] = nuno\n",
    "    end\n",
    "    float(heap, heap.last)\n",
    "end\n",
    "\n",
    "function rekey(heap, val, key)\n",
    "    # arguments:\n",
    "    #     heap: a heap data structure\n",
    "    #     val: the unique value of some node in the heap\n",
    "    #     key: the key by which the node of value val is ordered in the heap\n",
    "    # what it does:\n",
    "    #     decreases (min heap) or increases (max heap) the key associated with some node \n",
    "    #     if a smaller or larger key is discovered during graph search\n",
    "    # returns:\n",
    "    #    no returns\n",
    "    if heap.addressbook[val] <= heap.last\n",
    "        if heap.kind == \"min\"\n",
    "            ∘ = <\n",
    "        elseif heap.kind == \"max\"\n",
    "            ∘ = >\n",
    "        end\n",
    "        if key ∘ heap.list[heap.addressbook[val]].key\n",
    "            heap.list[heap.addressbook[val]].key = key\n",
    "            float(heap, heap.addressbook[val])\n",
    "        end\n",
    "    end\n",
    "end"
   ]
  },
  {
   "cell_type": "code",
   "execution_count": 2,
   "metadata": {
    "collapsed": false
   },
   "outputs": [
    {
     "data": {
      "text/plain": [
       "Dijkstra (generic function with 1 method)"
      ]
     },
     "execution_count": 2,
     "metadata": {},
     "output_type": "execute_result"
    }
   ],
   "source": [
    "function Dijkstra(graph, startnode)\n",
    "    # arguments:\n",
    "    #     graph: an undirected adjacency list of the form Dict{Any,Dict{Any,Number}}.\n",
    "    #     startnode: the starting point from which all shortest paths will be measured\n",
    "    # what it does:\n",
    "    #     finds the shortest path to all points from the startnode\n",
    "    # returns:\n",
    "    #    a complete list of nodes sorted in order of node number. Each node in the \n",
    "    #    list contains the shortest path as its \"key\", and the node number as its \"val\"\n",
    "    n = size(collect(keys(graph)))[1]\n",
    "    shortestpaths = []\n",
    "    preheaped = [k==startnode ? Node(0,k) : Node(Inf, k) for k=1:n]\n",
    "    heap = Heap(preheaped, \"min\")\n",
    "    while heap.last > 0\n",
    "        current = pop(heap)\n",
    "        push!(shortestpaths, current)\n",
    "        for oppnode in keys(graph[current.val])\n",
    "            rekey(heap, oppnode, current.key + graph[current.val][oppnode])\n",
    "        end\n",
    "    end\n",
    "    return shortestpaths\n",
    "end"
   ]
  },
  {
   "cell_type": "markdown",
   "metadata": {},
   "source": [
    "# An Example\n",
    "\n",
    "\n",
    "This data which is loaded in the cell below is the proper form of the graph to feed to the Dijkstra algorithm. The structure must be of the form Dict{Int, Dict{Int, Real}}. Interpret its meaning through the following example, that of node 1. There are a number of undirected edges leading out of it, including edges to node 169 with edge length 2001 and node 11 with edge length 70."
   ]
  },
  {
   "cell_type": "code",
   "execution_count": 3,
   "metadata": {
    "collapsed": false
   },
   "outputs": [
    {
     "name": "stderr",
     "output_type": "stream",
     "text": [
      "INFO: Recompiling stale cache file /home/robert/.julia/lib/v0.5/JLD.ji for module JLD.\n"
     ]
    },
    {
     "data": {
      "text/plain": [
       "Dict{Int64,Real} with 15 entries:\n",
       "  169 => 2001\n",
       "  11  => 70\n",
       "  91  => 2446\n",
       "  26  => 2838\n",
       "  10  => 1918\n",
       "  138 => 7783\n",
       "  156 => 5786\n",
       "  177 => 3779\n",
       "  61  => 8958\n",
       "  78  => 6878\n",
       "  154 => 2697\n",
       "  67  => 11\n",
       "  36  => 8196\n",
       "  164 => 7749\n",
       "  33  => 5564"
      ]
     },
     "execution_count": 3,
     "metadata": {},
     "output_type": "execute_result"
    }
   ],
   "source": [
    "using JLD\n",
    "adj = load(\"dijkstra.jld\", \"al\") \n",
    "\n",
    "adj[1]"
   ]
  },
  {
   "cell_type": "markdown",
   "metadata": {},
   "source": [
    "Here are the results of the test run. The nodes are printed in order of shortest path length fron Node 1."
   ]
  },
  {
   "cell_type": "code",
   "execution_count": 4,
   "metadata": {
    "collapsed": false
   },
   "outputs": [
    {
     "name": "stdout",
     "output_type": "stream",
     "text": [
      "  0.971730 seconds (253.49 k allocations: 10.686 MB)\n"
     ]
    },
    {
     "data": {
      "text/plain": [
       "200-element Array{Any,1}:\n",
       " Node(0,1)     \n",
       " Node(11,67)   \n",
       " Node(70,11)   \n",
       " Node(72,72)   \n",
       " Node(168,94)  \n",
       " Node(450,73)  \n",
       " Node(594,196) \n",
       " Node(724,130) \n",
       " Node(770,133) \n",
       " Node(778,136) \n",
       " Node(815,3)   \n",
       " Node(864,74)  \n",
       " Node(897,160) \n",
       " ⋮             \n",
       " Node(3807,76) \n",
       " Node(3860,40) \n",
       " Node(3861,90) \n",
       " Node(3997,184)\n",
       " Node(4102,31) \n",
       " Node(4127,45) \n",
       " Node(4226,173)\n",
       " Node(4348,141)\n",
       " Node(4357,95) \n",
       " Node(4629,168)\n",
       " Node(4950,70) \n",
       " Node(5403,163)"
      ]
     },
     "execution_count": 4,
     "metadata": {},
     "output_type": "execute_result"
    }
   ],
   "source": [
    "@time Dijkstra(adj, 1)"
   ]
  },
  {
   "cell_type": "code",
   "execution_count": null,
   "metadata": {
    "collapsed": true
   },
   "outputs": [],
   "source": []
  }
 ],
 "metadata": {
  "kernelspec": {
   "display_name": "Julia 0.5.0",
   "language": "julia",
   "name": "julia-0.5"
  },
  "language_info": {
   "file_extension": ".jl",
   "mimetype": "application/julia",
   "name": "julia",
   "version": "0.5.0"
  }
 },
 "nbformat": 4,
 "nbformat_minor": 0
}
