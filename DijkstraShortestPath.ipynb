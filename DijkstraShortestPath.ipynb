{
 "cells": [
  {
   "cell_type": "code",
   "execution_count": 260,
   "metadata": {
    "collapsed": false
   },
   "outputs": [
    {
     "data": {
      "text/plain": [
       "push (generic function with 1 method)"
      ]
     },
     "execution_count": 260,
     "metadata": {},
     "output_type": "execute_result"
    }
   ],
   "source": [
    "#Heap stuff \n",
    "type Node\n",
    "    # a node data structure. It contains two arguments: a key and a value. \"key\" \n",
    "    # is the used to rank the node, possibly by a heap. \"val\" is the value of the \n",
    "    # node from the perspective of its graph.\n",
    "    key::Real\n",
    "    val::Real\n",
    "end\n",
    "\n",
    "type Heap\n",
    "    # a heap data structure. It contains a list of node objects. Note that elements \n",
    "    # are never deleted from the node list; rather, a pointer called \"last\" is used \n",
    "    # to indicate that last good value in the arrays. The heaps can be either min or \n",
    "    # max heaps, as determined by the keyword argument \"kind\"\n",
    "    list::Array{Node,1}\n",
    "    last::Int\n",
    "    kind::ASCIIString\n",
    "end\n",
    "Heap(kind) = Heap([], 0, kind)\n",
    "Heap(node, kind) = Heap([node], 1, kind)\n",
    " \n",
    "function sink(heap, i)\n",
    "    # arguments:\n",
    "    #     heap: a heap data structure\n",
    "    #     i: an index describing the location in the heap (in the base array \n",
    "    #     itself) of the node to be sunk can be found \n",
    "    # what it does:\n",
    "    #     after the base node is popped from the heap, the node in the last \n",
    "    #     position is brough into the base node, at least temporarily. The proper \n",
    "    #     position for this node can be found by \"sinking\" it down through the heap.\n",
    "    # returns:\n",
    "    #    return statements are for facilitation of recursion only\n",
    "    if heap.last != 0\n",
    "        if heap.kind == \"min\"\n",
    "            ∘ = <=\n",
    "        elseif heap.kind == \"max\"\n",
    "            ∘ = >=\n",
    "        end\n",
    "        l = i<<1\n",
    "        r = i<<1+1\n",
    "        if r <= heap.last && heap.list[r].key ∘ heap.list[l].key && heap.list[r].key ∘ heap.list[i].key\n",
    "            heap.list[i], heap.list[r] = heap.list[r], heap.list[i]\n",
    "            return sink(heap, r)\n",
    "        elseif l <= heap.last && heap.list[l].key ∘ heap.list[i].key\n",
    "            heap.list[i], heap.list[l] = heap.list[l], heap.list[i]\n",
    "            return sink(heap, l)\n",
    "        else\n",
    "            return\n",
    "        end\n",
    "    end\n",
    "end\n",
    "\n",
    "function float(heap, i)\n",
    "    # arguments:\n",
    "    #     heap: a heap data structure\n",
    "    #     i: an index describing the location in the heap (in the base array \n",
    "    #     itself) of the node to be floated can be found \n",
    "    # what it does:\n",
    "    #     a new node is pushed onto the heap in the last position. This may not be \n",
    "    #     its rightful location in the heap. The proper position for this node can \n",
    "    #     be found by \"floating\" it up through the heap.\n",
    "    # returns:\n",
    "    #    return statements are for facilitation of recursion only\n",
    "    if i == 1\n",
    "        return\n",
    "    else\n",
    "        if heap.kind == \"min\"\n",
    "            ∘ = <\n",
    "        elseif heap.kind == \"max\"\n",
    "            ∘ = >\n",
    "        end\n",
    "        if heap.list[i].key ∘ heap.list[i>>1].key\n",
    "            heap.list[i], heap.list[i>>1] = heap.list[i>>1], heap.list[i]\n",
    "            return float(heap, i>>1)\n",
    "        end\n",
    "    end\n",
    "end\n",
    "        \n",
    "function pop(heap)\n",
    "    # arguments:\n",
    "    #     heap: a heap data structure\n",
    "    # what it does:\n",
    "    #     removes the base node from the heap. Note that elements are never \n",
    "    #     deleted from the heap's lists, rather the last pointer is decremented\n",
    "    # returns:\n",
    "    #    the contents of the base node: its key and value. If the heap is empty \n",
    "    #    it returns an infinity-stuffed node\n",
    "    if heap.last > 0\n",
    "        returnable = heap.list[1]\n",
    "        heap.list[1] = heap.list[heap.last]\n",
    "        heap.last -= 1\n",
    "        sink(heap, 1)\n",
    "        return returnable\n",
    "    else\n",
    "        return Node(Inf,Inf)\n",
    "    end\n",
    "end\n",
    "\n",
    "function push(heap, nuno)\n",
    "    # arguments:\n",
    "    #     heap: a heap data structure\n",
    "    #     key: the quantity of the new node around which the heap is organized\n",
    "    #     value: other quantity associated with the node but unimportant to the heap\n",
    "    # what it does:\n",
    "    #     adds a new node to the heap. Note that if the heap's lists are too short to \n",
    "    #     contain the new nodes children, dummy elements are added to the lists. The \n",
    "    #     keys of these dummies are the maximum allowed by the data type if a min heap, \n",
    "    #     zero if a max heap. This is done to facilitate sinking after pop.\n",
    "    # returns:\n",
    "    #    no returns\n",
    "    heap.last += 1\n",
    "    if size(heap.list)[1] < heap.last\n",
    "        push!(heap.list, nuno)\n",
    "    else\n",
    "        heap.list[heap.last] = nuno\n",
    "    end\n",
    "    float(heap, heap.last)\n",
    "end\n"
   ]
  },
  {
   "cell_type": "code",
   "execution_count": 261,
   "metadata": {
    "collapsed": false
   },
   "outputs": [
    {
     "data": {
      "text/plain": [
       "Dijkstra (generic function with 1 method)"
      ]
     },
     "execution_count": 261,
     "metadata": {},
     "output_type": "execute_result"
    }
   ],
   "source": [
    "function BFS(graph, heap, shortestpaths, explored)\n",
    "    # arguments:\n",
    "    #     graph: an adjacency matrix of an undirected graph of the form \n",
    "    #     Dict{Any,Dict{Any,Number}}.\n",
    "    #     heap: a heap data structure with graph nodes as elements\n",
    "    #     shortestpaths: a (partial) list of nodes in increasomg order of \n",
    "    #     shortest path\n",
    "    #     explored: a list of booleans corresponding to the visitation status of \n",
    "    #     the node corresponding to the index of the array\n",
    "    # what it does:\n",
    "    #     Pops the top off the heap and adds a new nodes to the frontier--all \n",
    "    #     nodes which are adjacent to the node at the top of the heap and that \n",
    "    #     have not been previously explored. Nodes are not considered explored until \n",
    "    #     they have been popped off the heap. \n",
    "    # returns:\n",
    "    #    the argument heap with new nodes to be explored and the base node popped off\n",
    "    #    an argument shortestpaths list updated with the shortest remaining path \n",
    "    #    from the heap\n",
    "    #    the argument explored list with the most recently explored node included\n",
    "    current = pop(heap)\n",
    "    if current.val != Inf\n",
    "        if !explored[current.val]\n",
    "            push!(shortestpaths, current)\n",
    "            pathlength = current.key\n",
    "            explored[current.val] = true\n",
    "            for k in keys(graph[current.val])\n",
    "                if !explored[k]\n",
    "                    push(heap, Node(pathlength + graph[current.val][k], k))\n",
    "                end\n",
    "            end\n",
    "        end\n",
    "    else\n",
    "        explored = ones(Bool, size(explored)[1])\n",
    "    end\n",
    "    return heap, shortestpaths, explored\n",
    "end\n",
    "\n",
    "function Dijkstra(graph, startnode)\n",
    "    # arguments:\n",
    "    #     graph: an undirected adjacency list of the form Dict{Any,Dict{Any,Number}}.\n",
    "    #     startnode: the starting point from which all shortest paths will be measured\n",
    "    # what it does:\n",
    "    #     finds the shortest path to all points from the startnode\n",
    "    # returns:\n",
    "    #    a complete list of nodes sorted in order of node number. Each node ion the \n",
    "    #    list contains the shortest path as its \"key\", and the node number as its \"val\"\n",
    "    shortestpaths = []\n",
    "    explored = [false for i = 1:maximum(keys(graph))]\n",
    "    T = typeof(collect(keys(graph))[1])\n",
    "    heap = Heap(Node(0, startnode), \"min\")\n",
    "    while !all(explored)\n",
    "        heap, shortestpaths, explored = BFS(graph, heap, shortestpaths, explored)\n",
    "    end\n",
    "    return shortestpaths\n",
    "end"
   ]
  },
  {
   "cell_type": "markdown",
   "metadata": {},
   "source": [
    "# An Example"
   ]
  },
  {
   "cell_type": "code",
   "execution_count": 262,
   "metadata": {
    "collapsed": false
   },
   "outputs": [
    {
     "data": {
      "text/plain": [
       "Dict{Int64,Dict{Int64,Real}} with 200 entries:\n",
       "  11  => Dict{Int64,Real}(74=>794,192=>3613,72=>2,152=>4539,38=>5284,182=>5995,…\n",
       "  158 => Dict{Int64,Real}(68=>2965,156=>8062,177=>2205,123=>195,153=>6169,72=>4…\n",
       "  134 => Dict{Int64,Real}(200=>2393,115=>5383,30=>5604,140=>5667,40=>6092,101=>…\n",
       "  160 => Dict{Int64,Real}(189=>6714,80=>6367,89=>4081,114=>383,171=>1709,197=>4…\n",
       "  29  => Dict{Int64,Real}(124=>84,177=>210,80=>3066,140=>5918,116=>714,3=>7905,…\n",
       "  131 => Dict{Int64,Real}(81=>7314,169=>5370,161=>6895,186=>5623,87=>517,49=>95…\n",
       "  173 => Dict{Int64,Real}(69=>1394,190=>6981,96=>9959,187=>5113,35=>3913,8=>372…\n",
       "  74  => Dict{Int64,Real}(148=>4264,80=>5839,11=>794,91=>4836,104=>3377,155=>54…\n",
       "  176 => Dict{Int64,Real}(92=>6914,124=>8205,101=>5675,74=>2019,153=>1846,110=>…\n",
       "  57  => Dict{Int64,Real}(190=>5181,107=>8477,171=>7795,26=>4106,195=>8583,147=…\n",
       "  31  => Dict{Int64,Real}(80=>8190,69=>3449,158=>5083,174=>5830,102=>1642,146=>…\n",
       "  70  => Dict{Int64,Real}(68=>8312,148=>3895,54=>7601,80=>7924,165=>4920,143=>3…\n",
       "  33  => Dict{Int64,Real}(52=>2598,37=>9855,148=>2837,1=>5564,77=>7688,116=>761…\n",
       "  114 => Dict{Int64,Real}(68=>2271,47=>9496,82=>5208,7=>1522,160=>383,25=>3201,…\n",
       "  165 => Dict{Int64,Real}(121=>5189,103=>6033,3=>8164,153=>3624,149=>7221,91=>4…\n",
       "  96  => Dict{Int64,Real}(68=>3424,32=>6976,89=>9647,122=>2733,16=>3551,172=>93…\n",
       "  133 => Dict{Int64,Real}(105=>2920,4=>7005,100=>4614,77=>5902,165=>8625,16=>35…\n",
       "  49  => Dict{Int64,Real}(148=>2959,16=>7898,60=>1229,147=>9483,131=>9533,144=>…\n",
       "  84  => Dict{Int64,Real}(16=>3283,46=>3134,134=>4162,158=>4691,132=>3349,133=>…\n",
       "  117 => Dict{Int64,Real}(54=>4973,148=>9828,77=>9140,11=>7827,82=>1417,131=>74…\n",
       "  93  => Dict{Int64,Real}(54=>424,2=>1988,40=>7087,43=>7776,160=>5553,144=>9164…\n",
       "  50  => Dict{Int64,Real}(143=>7941,26=>7959,132=>7921,25=>4485,55=>3578,35=>91…\n",
       "  77  => Dict{Int64,Real}(33=>7688,18=>4116,122=>6892,89=>3244,143=>9237,110=>5…\n",
       "  80  => Dict{Int64,Real}(100=>6603,32=>5469,124=>6207,156=>8423,74=>5839,139=>…\n",
       "  188 => Dict{Int64,Real}(105=>9654,191=>8128,199=>1324,190=>5027,145=>8430,197…\n",
       "  ⋮   => ⋮"
      ]
     },
     "execution_count": 262,
     "metadata": {},
     "output_type": "execute_result"
    }
   ],
   "source": [
    "using JLD\n",
    "adj = load(\"dijkstra.jld\", \"al\") \n",
    "\n",
    "# this is the proper form of the graph to feed to the Dijkstra algorithm\n",
    "# The structure must be of the form Dict{Int, Dict{Int, Real}} or any subset thereof\n",
    "# Interpret its meaning through the following example. The first node in the graph is node 11.\n",
    "# There are a number of directed edges leading out of it, including edges to node \n",
    "# 74 with edge length 794 and node 192 with edge length 3613."
   ]
  },
  {
   "cell_type": "markdown",
   "metadata": {},
   "source": [
    "Here are the results of the test run. The nodes are printed in order of shortest path length fron Node 1."
   ]
  },
  {
   "cell_type": "code",
   "execution_count": 266,
   "metadata": {
    "collapsed": false
   },
   "outputs": [
    {
     "name": "stdout",
     "output_type": "stream",
     "text": [
      "  0.006772 seconds (7.39 k allocations: 192.969 KB)\n"
     ]
    },
    {
     "data": {
      "text/plain": [
       "200-element Array{Any,1}:\n",
       " Node(0,1)     \n",
       " Node(11,67)   \n",
       " Node(70,11)   \n",
       " Node(72,72)   \n",
       " Node(168,94)  \n",
       " Node(450,73)  \n",
       " Node(594,196) \n",
       " Node(724,130) \n",
       " Node(770,133) \n",
       " Node(778,136) \n",
       " Node(815,3)   \n",
       " Node(864,74)  \n",
       " Node(897,160) \n",
       " ⋮             \n",
       " Node(3807,76) \n",
       " Node(3860,40) \n",
       " Node(3861,90) \n",
       " Node(3997,184)\n",
       " Node(4102,31) \n",
       " Node(4127,45) \n",
       " Node(4226,173)\n",
       " Node(4348,141)\n",
       " Node(4357,95) \n",
       " Node(4629,168)\n",
       " Node(4950,70) \n",
       " Node(5403,163)"
      ]
     },
     "execution_count": 266,
     "metadata": {},
     "output_type": "execute_result"
    }
   ],
   "source": [
    "@time Dijkstra(adj, 1)"
   ]
  },
  {
   "cell_type": "code",
   "execution_count": null,
   "metadata": {
    "collapsed": true
   },
   "outputs": [],
   "source": []
  },
  {
   "cell_type": "code",
   "execution_count": null,
   "metadata": {
    "collapsed": true
   },
   "outputs": [],
   "source": []
  }
 ],
 "metadata": {
  "kernelspec": {
   "display_name": "Julia 0.4.6",
   "language": "julia",
   "name": "julia-0.4"
  },
  "language_info": {
   "file_extension": ".jl",
   "mimetype": "application/julia",
   "name": "julia",
   "version": "0.4.6"
  }
 },
 "nbformat": 4,
 "nbformat_minor": 0
}
