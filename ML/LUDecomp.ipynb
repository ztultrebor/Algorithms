{
 "cells": [
  {
   "cell_type": "markdown",
   "metadata": {},
   "source": [
    "# LU Decomposition versus Matrix Inversion"
   ]
  },
  {
   "cell_type": "markdown",
   "metadata": {},
   "source": [
    "It has been said that a little knowledge is a dangerous thing. Some people say that about matrix inversion. Matrix inversion is a complex and sophisticated topic, and once you know how it's done you feel like Gauss himself couldn't do it any better. But is is true that matrix inversion is a thing for amateurs, and that the real experts do it differently? Like with LU-decomposition? Let's undertake to find out.\n",
    "\n",
    "An LU decomposition decomposes a matrix $A$ into a lower triangular matrix $L$ and an upper triangular matrix $U$:\n",
    "$$ \\mathsf A = \\mathsf L \\mathsf U$$"
   ]
  },
  {
   "cell_type": "markdown",
   "metadata": {},
   "source": [
    "This might be of considerable interest if we attempt to solve a problem of the type\n",
    "\n",
    "$$ \\mathsf A x = b$$\n",
    "\n",
    "for the unknown vector $x$."
   ]
  },
  {
   "cell_type": "markdown",
   "metadata": {},
   "source": [
    "The matrix inversion approach would be to solve\n",
    "\n",
    "$$ x = \\mathsf A^{-1} b$$"
   ]
  },
  {
   "cell_type": "markdown",
   "metadata": {},
   "source": [
    "The LU decomposition approach would be to decompose $\\mathsf A$ into $\\mathsf L \\mathsf U$ and solve by substitution. How? Consider\n",
    "\n",
    "$$ \\mathsf L \\mathsf U x = b$$"
   ]
  },
  {
   "cell_type": "markdown",
   "metadata": {},
   "source": [
    "We can multiply both sides by $\\mathsf L^{-1}$ (on paper) to discover\n",
    "\n",
    "$$ \\mathsf U x = \\mathsf L^{-1} b = c$$"
   ]
  },
  {
   "cell_type": "markdown",
   "metadata": {},
   "source": [
    "If we rearrange terms a bit we can state\n",
    "\n",
    "$$ \\mathsf L c = b $$\n",
    "\n",
    "Since we are provided $b$ and we have determined $\\mathsf L$ (by assumption), we can determine $c$ by back substitution. No inversion required."
   ]
  },
  {
   "cell_type": "markdown",
   "metadata": {},
   "source": [
    "Likewise, once we have $c$ we can determine $x$ through back substituton using the relation given above that\n",
    "\n",
    "$$ \\mathsf U x = c $$\n",
    "\n",
    "So the conjecture is that the decomposing $\\mathsf A$ into $\\mathsf L$ and $\\mathsf U$ and then performing two back substitutions is faster than invertng $\\mathsf A$ to determine $x$. Let's attempt to disprove that conjecture with an generalized example with independent columns (and rows)."
   ]
  },
  {
   "cell_type": "code",
   "execution_count": 18,
   "metadata": {
    "collapsed": false
   },
   "outputs": [
    {
     "name": "stdout",
     "output_type": "stream",
     "text": [
      " 70.000450 seconds (23 allocations: 383.988 MB, 0.01% gc time)\n",
      " 18.244692 seconds (16 allocations: 190.793 MB, 0.33% gc time)\n"
     ]
    }
   ],
   "source": [
    "A = randn(5000,5000)\n",
    "b = randn(5000)\n",
    "\n",
    "@time x_by_inv = inv(A)*b\n",
    "@time x_by_LU = A\\b # solves for x using LU decomp (provided A is square)\n",
    "\n",
    "assert(isapprox(x_by_inv, x_by_LU))"
   ]
  },
  {
   "cell_type": "markdown",
   "metadata": {},
   "source": [
    "You can see that the LU approach is substantially faster than the inversion approach. Conjecture apears to be true."
   ]
  },
  {
   "cell_type": "code",
   "execution_count": null,
   "metadata": {
    "collapsed": true
   },
   "outputs": [],
   "source": []
  }
 ],
 "metadata": {
  "kernelspec": {
   "display_name": "Julia 0.5.0",
   "language": "julia",
   "name": "julia-0.5"
  },
  "language_info": {
   "file_extension": ".jl",
   "mimetype": "application/julia",
   "name": "julia",
   "version": "0.5.0"
  }
 },
 "nbformat": 4,
 "nbformat_minor": 0
}
