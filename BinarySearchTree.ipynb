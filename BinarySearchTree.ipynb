{
 "cells": [
  {
   "cell_type": "code",
   "execution_count": 293,
   "metadata": {
    "collapsed": false
   },
   "outputs": [
    {
     "data": {
      "text/plain": [
       "delete (generic function with 1 method)"
      ]
     },
     "execution_count": 293,
     "metadata": {},
     "output_type": "execute_result"
    }
   ],
   "source": [
    "workspace()\n",
    "\n",
    "type BST\n",
    "    root::Any\n",
    "end\n",
    "BST(val::Real) = BST(Node(val))\n",
    "\n",
    "type Node\n",
    "    key::Any\n",
    "    p::Any\n",
    "    l::Any\n",
    "    r::Any\n",
    "end\n",
    "Node(key) = Node(key, false, false, false)\n",
    "\n",
    "function search(tree, val)\n",
    "    current = tree.root\n",
    "    while current != false && current.key != val\n",
    "        current = val < current.key ? current.l : current.r\n",
    "    end\n",
    "    return current\n",
    "end\n",
    "\n",
    "function minimum(tree)\n",
    "    current = tree.root\n",
    "    min = current\n",
    "    while current != false\n",
    "        min = current\n",
    "        current = current.l\n",
    "    end\n",
    "    return min.key\n",
    "end\n",
    "\n",
    "function maximum(tree)\n",
    "    current = tree.root\n",
    "    max = current\n",
    "    while current != false\n",
    "        max = current\n",
    "        current = current.r\n",
    "    end\n",
    "    return max.key\n",
    "end\n",
    "\n",
    "function successor(tree, val)\n",
    "    current = search(tree, val)\n",
    "    if current.r != false\n",
    "        succ = current.r\n",
    "        while succ.l != false\n",
    "            succ = succ.l\n",
    "        end\n",
    "        return succ\n",
    "    elseif current.p.key >=  current.key\n",
    "        return current.p\n",
    "    else\n",
    "        return false\n",
    "    end\n",
    "end\n",
    "\n",
    "successor(tree, node::Node) = successor(tree, node.key)\n",
    "\n",
    "function predecessor(tree, val)\n",
    "    current = search(tree, val)\n",
    "    if current.l != false\n",
    "        succ = current.l\n",
    "        while succ.r != false\n",
    "            succ = succ.r\n",
    "        end\n",
    "        return succ\n",
    "    elseif current.p.key <=  current.key\n",
    "        return current.p\n",
    "    else\n",
    "        return false\n",
    "    end\n",
    "end\n",
    "\n",
    "predecessor(tree, node::Node) = predecessor(tree, node.key)\n",
    "\n",
    "function insert(tree, node::Node)\n",
    "    current = tree.root\n",
    "    parent = tree.root\n",
    "    while current != false\n",
    "        parent = current\n",
    "        current =  node.key < current.key ? current.l : current.r\n",
    "    end\n",
    "    if parent == false\n",
    "        tree.root = node\n",
    "        node.p = false\n",
    "    elseif node.key < parent.key\n",
    "        parent.l = node\n",
    "        node.p = parent\n",
    "    elseif node.key >= parent.key\n",
    "        parent.r = node\n",
    "        node.p = parent\n",
    "    end\n",
    "end\n",
    "\n",
    "insert(tree, nodelist::Array) = [insert(tree, node) for node in nodelist]\n",
    "\n",
    "insert(tree, nodelist::Set) = [insert(tree, node) for node in nodelist]\n",
    "\n",
    "insert(tree, val) = insert(tree, Node(val))\n",
    "\n",
    "function delete(tree, val)\n",
    "    target = search(tree, val)\n",
    "    if target != false\n",
    "        reinsertions = Set([])\n",
    "        if target.r != false\n",
    "            replacement = successor(tree, target)\n",
    "            reinsertions = Set([replacement, target.l, target.r, replacement.r])\n",
    "            replacement.p.l = false\n",
    "            replacement.r = false\n",
    "        elseif target.l != false\n",
    "            replacement = predecessor(tree, target)\n",
    "            reinsertions = Set([replacement, target.l, target.r, replacement.l])\n",
    "            replacement.p.r = false\n",
    "            replacement.l = false\n",
    "        end\n",
    "        println(reinsertions)\n",
    "        if target.p == false\n",
    "            tree.root = false\n",
    "        elseif target.key < target.p.key\n",
    "            target.p.l = false\n",
    "        else\n",
    "            target.p.r = false\n",
    "        end\n",
    "        \n",
    "        insert(tree, reinsertions)\n",
    "    end\n",
    "end"
   ]
  },
  {
   "cell_type": "code",
   "execution_count": 294,
   "metadata": {
    "collapsed": false
   },
   "outputs": [
    {
     "data": {
      "text/plain": [
       "Node(7,Node(5,false,Node(2,Node(#= circular reference =#),false,false),Node(#= circular reference =#)),false,Node(10,Node(#= circular reference =#),false,false))"
      ]
     },
     "execution_count": 294,
     "metadata": {},
     "output_type": "execute_result"
    }
   ],
   "source": [
    "tree = BST(5)\n",
    "insert(tree, 7)\n",
    "insert(tree, 2)\n",
    "insert(tree, 10)"
   ]
  },
  {
   "cell_type": "code",
   "execution_count": 295,
   "metadata": {
    "collapsed": false
   },
   "outputs": [
    {
     "name": "stdout",
     "output_type": "stream",
     "text": [
      "Node(10,Node(7,Node(5,false,Node(2,Node(#= circular reference =#),false,false),Node(#= circular reference =#)),false,Node(#= circular reference =#)),false,false)\n",
      "Node(2,Node(5,false,Node(#= circular reference =#),Node(7,Node(#= circular reference =#),false,Node(10,Node(#= circular reference =#),false,false))),false,false)\n",
      "Node(5,false,Node(2,Node(#= circular reference =#),false,false),Node(7,Node(#= circular reference =#),false,Node(10,Node(#= circular reference =#),false,false)))\n",
      "Node(7,Node(5,false,Node(2,Node(#= circular reference =#),false,false),Node(#= circular reference =#)),false,Node(10,Node(#= circular reference =#),false,false))\n",
      "false\n",
      "false\n"
     ]
    }
   ],
   "source": [
    "println(search(tree, 10))\n",
    "println(search(tree, 2))\n",
    "println(search(tree, 5))\n",
    "println(search(tree, 7))\n",
    "println(search(tree, 8))\n",
    "println(search(tree, π))"
   ]
  },
  {
   "cell_type": "code",
   "execution_count": 296,
   "metadata": {
    "collapsed": false
   },
   "outputs": [
    {
     "data": {
      "text/plain": [
       "2"
      ]
     },
     "execution_count": 296,
     "metadata": {},
     "output_type": "execute_result"
    }
   ],
   "source": [
    "minimum(tree)"
   ]
  },
  {
   "cell_type": "code",
   "execution_count": 297,
   "metadata": {
    "collapsed": false
   },
   "outputs": [
    {
     "data": {
      "text/plain": [
       "10"
      ]
     },
     "execution_count": 297,
     "metadata": {},
     "output_type": "execute_result"
    }
   ],
   "source": [
    "maximum(tree)"
   ]
  },
  {
   "cell_type": "code",
   "execution_count": 298,
   "metadata": {
    "collapsed": false
   },
   "outputs": [
    {
     "data": {
      "text/plain": [
       "Node(10,Node(7,Node(5,false,Node(2,Node(#= circular reference =#),false,false),Node(#= circular reference =#)),false,Node(#= circular reference =#)),false,false)"
      ]
     },
     "execution_count": 298,
     "metadata": {},
     "output_type": "execute_result"
    }
   ],
   "source": [
    "successor(tree, 7)"
   ]
  },
  {
   "cell_type": "code",
   "execution_count": 299,
   "metadata": {
    "collapsed": false
   },
   "outputs": [
    {
     "data": {
      "text/plain": [
       "false"
      ]
     },
     "execution_count": 299,
     "metadata": {},
     "output_type": "execute_result"
    }
   ],
   "source": [
    "predecessor(tree, 2)"
   ]
  },
  {
   "cell_type": "code",
   "execution_count": 300,
   "metadata": {
    "collapsed": false
   },
   "outputs": [
    {
     "name": "stdout",
     "output_type": "stream",
     "text": [
      "Set([Node(7,Node(5,false,false,Node(#= circular reference =#)),false,false),Node(10,Node(7,Node(5,false,false,Node(#= circular reference =#)),false,false),false,false),Node(2,Node(5,false,false,Node(7,Node(#= circular reference =#),false,false)),false,false)])\n"
     ]
    },
    {
     "data": {
      "text/plain": [
       "3-element Array{Any,1}:\n",
       " false                                                                                                                    \n",
       "      Node(7,false,Node(2,Node(#= circular reference =#),false,false),Node(10,Node(#= circular reference =#),false,false))\n",
       "      Node(7,false,Node(2,Node(#= circular reference =#),false,false),Node(10,Node(#= circular reference =#),false,false))"
      ]
     },
     "execution_count": 300,
     "metadata": {},
     "output_type": "execute_result"
    }
   ],
   "source": [
    "delete(tree, 5)"
   ]
  },
  {
   "cell_type": "code",
   "execution_count": 301,
   "metadata": {
    "collapsed": false
   },
   "outputs": [
    {
     "name": "stdout",
     "output_type": "stream",
     "text": [
      "Node(10,Node(7,false,Node(2,Node(#= circular reference =#),false,false),Node(#= circular reference =#)),false,false)\n",
      "Node(2,Node(7,false,Node(#= circular reference =#),Node(10,Node(#= circular reference =#),false,false)),false,false)\n",
      "false\n",
      "Node(7,false,Node(2,Node(#= circular reference =#),false,false),Node(10,Node(#= circular reference =#),false,false))\n",
      "false\n",
      "false\n"
     ]
    }
   ],
   "source": [
    "println(search(tree, 10))\n",
    "println(search(tree, 2))\n",
    "println(search(tree, 5))\n",
    "println(search(tree, 7))\n",
    "println(search(tree, 8))\n",
    "println(search(tree, π))"
   ]
  },
  {
   "cell_type": "code",
   "execution_count": 304,
   "metadata": {
    "collapsed": false
   },
   "outputs": [
    {
     "data": {
      "text/plain": [
       "Node(10,Node(7,false,Node(2,Node(#= circular reference =#),false,false),Node(#= circular reference =#)),false,false)"
      ]
     },
     "execution_count": 304,
     "metadata": {},
     "output_type": "execute_result"
    }
   ],
   "source": [
    "tree.root.r"
   ]
  },
  {
   "cell_type": "code",
   "execution_count": null,
   "metadata": {
    "collapsed": true
   },
   "outputs": [],
   "source": []
  },
  {
   "cell_type": "code",
   "execution_count": null,
   "metadata": {
    "collapsed": true
   },
   "outputs": [],
   "source": []
  }
 ],
 "metadata": {
  "kernelspec": {
   "display_name": "Julia 0.4.6",
   "language": "julia",
   "name": "julia-0.4"
  },
  "language_info": {
   "file_extension": ".jl",
   "mimetype": "application/julia",
   "name": "julia",
   "version": "0.4.6"
  }
 },
 "nbformat": 4,
 "nbformat_minor": 0
}
