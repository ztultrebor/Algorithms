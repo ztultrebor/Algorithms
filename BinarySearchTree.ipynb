{
 "cells": [
  {
   "cell_type": "code",
   "execution_count": 142,
   "metadata": {
    "collapsed": false
   },
   "outputs": [
    {
     "data": {
      "text/plain": [
       "insert (generic function with 1 method)"
      ]
     },
     "execution_count": 142,
     "metadata": {},
     "output_type": "execute_result"
    }
   ],
   "source": [
    "workspace()\n",
    "\n",
    "type BST\n",
    "    root::Any\n",
    "end\n",
    "BST(val::Real) = BST(Node(val))\n",
    "\n",
    "type Node\n",
    "    key::Any\n",
    "    p::Any\n",
    "    l::Any\n",
    "    r::Any\n",
    "end\n",
    "Node(key) = Node(key, false, false, false)\n",
    "\n",
    "function search(tree, val)\n",
    "    current = tree.root\n",
    "    while current != false && current.key != val\n",
    "        current = val < current.key ? current.l : current.r\n",
    "    end\n",
    "    return current\n",
    "end\n",
    "\n",
    "function minimum(tree)\n",
    "    current = tree.root\n",
    "    min = current\n",
    "    while current != false\n",
    "        min = current\n",
    "        current = current.l\n",
    "    end\n",
    "    return min.key\n",
    "end\n",
    "\n",
    "function maximum(tree)\n",
    "    current = tree.root\n",
    "    max = current\n",
    "    while current != false\n",
    "        max = current\n",
    "        current = current.r\n",
    "    end\n",
    "    return max.key\n",
    "end\n",
    "\n",
    "function successor(tree, val)\n",
    "    current = search(tree, val)\n",
    "    if current.r != false\n",
    "        succ = current.r\n",
    "        while succ.l != false\n",
    "            succ = succ.l\n",
    "        end\n",
    "        return succ.key\n",
    "    elseif current.p.key >=  current.key\n",
    "        return current.p.key\n",
    "    else\n",
    "        return false\n",
    "    end\n",
    "end\n",
    "\n",
    "function predecessor(tree, val)\n",
    "    current = search(tree, val)\n",
    "    if current.l != false\n",
    "        succ = current.l\n",
    "        while succ.r != false\n",
    "            succ = succ.r\n",
    "        end\n",
    "        return succ.key\n",
    "    elseif current.p.key <=  current.key\n",
    "        return current.p.key\n",
    "    else\n",
    "        return false\n",
    "    end\n",
    "end\n",
    "\n",
    "function insert(tree, val)\n",
    "    node = Node(val)\n",
    "    current = tree.root\n",
    "    parent = tree.root\n",
    "    while current != false\n",
    "        parent = current\n",
    "        current =  node.key < current.key ? current.l : current.r\n",
    "    end\n",
    "    if node.key < parent.key\n",
    "        parent.l = node\n",
    "        node.p = parent\n",
    "    elseif node.key >= parent.key\n",
    "        parent.r = node\n",
    "        node.p = parent\n",
    "    else\n",
    "        tree.root = node\n",
    "    end\n",
    "end\n",
    "\n",
    "function delete(tree, val)\n",
    "    node = Node(val)\n",
    "    current = tree.root\n",
    "    parent = tree.root\n",
    "    while current != false\n",
    "        parent = current\n",
    "        current =  node.key < current.key ? current.l : current.r\n",
    "    end\n",
    "    if node.key < parent.key\n",
    "        parent.l = node\n",
    "        node.p = parent\n",
    "    elseif node.key >= parent.key\n",
    "        parent.r = node\n",
    "        node.p = parent\n",
    "    else\n",
    "        tree.root = node\n",
    "    end\n",
    "end"
   ]
  },
  {
   "cell_type": "code",
   "execution_count": 143,
   "metadata": {
    "collapsed": false
   },
   "outputs": [
    {
     "data": {
      "text/plain": [
       "Node(7,Node(5,false,Node(2,Node(#= circular reference =#),false,false),Node(#= circular reference =#)),false,Node(10,Node(#= circular reference =#),false,false))"
      ]
     },
     "execution_count": 143,
     "metadata": {},
     "output_type": "execute_result"
    }
   ],
   "source": [
    "tree = BST(5)\n",
    "insert(tree, 7)\n",
    "insert(tree, 2)\n",
    "insert(tree, 10)"
   ]
  },
  {
   "cell_type": "code",
   "execution_count": 144,
   "metadata": {
    "collapsed": false
   },
   "outputs": [
    {
     "name": "stdout",
     "output_type": "stream",
     "text": [
      "Node(10,Node(7,Node(5,false,Node(2,Node(#= circular reference =#),false,false),Node(#= circular reference =#)),false,Node(#= circular reference =#)),false,false)\n",
      "Node(2,Node(5,false,Node(#= circular reference =#),Node(7,Node(#= circular reference =#),false,Node(10,Node(#= circular reference =#),false,false))),false,false)\n",
      "Node(5,false,Node(2,Node(#= circular reference =#),false,false),Node(7,Node(#= circular reference =#),false,Node(10,Node(#= circular reference =#),false,false)))\n",
      "Node(7,Node(5,false,Node(2,Node(#= circular reference =#),false,false),Node(#= circular reference =#)),false,Node(10,Node(#= circular reference =#),false,false))\n",
      "false\n",
      "false\n"
     ]
    }
   ],
   "source": [
    "println(search(tree, 10))\n",
    "println(search(tree, 2))\n",
    "println(search(tree, 5))\n",
    "println(search(tree, 7))\n",
    "println(search(tree, 8))\n",
    "println(search(tree, π))"
   ]
  },
  {
   "cell_type": "code",
   "execution_count": 145,
   "metadata": {
    "collapsed": false
   },
   "outputs": [
    {
     "data": {
      "text/plain": [
       "2"
      ]
     },
     "execution_count": 145,
     "metadata": {},
     "output_type": "execute_result"
    }
   ],
   "source": [
    "minimum(tree)"
   ]
  },
  {
   "cell_type": "code",
   "execution_count": 146,
   "metadata": {
    "collapsed": false
   },
   "outputs": [
    {
     "data": {
      "text/plain": [
       "10"
      ]
     },
     "execution_count": 146,
     "metadata": {},
     "output_type": "execute_result"
    }
   ],
   "source": [
    "maximum(tree)"
   ]
  },
  {
   "cell_type": "code",
   "execution_count": 147,
   "metadata": {
    "collapsed": false
   },
   "outputs": [
    {
     "data": {
      "text/plain": [
       "10"
      ]
     },
     "execution_count": 147,
     "metadata": {},
     "output_type": "execute_result"
    }
   ],
   "source": [
    "successor(tree, 7)"
   ]
  },
  {
   "cell_type": "code",
   "execution_count": 151,
   "metadata": {
    "collapsed": false
   },
   "outputs": [
    {
     "data": {
      "text/plain": [
       "false"
      ]
     },
     "execution_count": 151,
     "metadata": {},
     "output_type": "execute_result"
    }
   ],
   "source": [
    "predecessor(tree, 2)"
   ]
  },
  {
   "cell_type": "code",
   "execution_count": null,
   "metadata": {
    "collapsed": true
   },
   "outputs": [],
   "source": []
  }
 ],
 "metadata": {
  "kernelspec": {
   "display_name": "Julia 0.4.6",
   "language": "julia",
   "name": "julia-0.4"
  },
  "language_info": {
   "file_extension": ".jl",
   "mimetype": "application/julia",
   "name": "julia",
   "version": "0.4.6"
  }
 },
 "nbformat": 4,
 "nbformat_minor": 0
}
